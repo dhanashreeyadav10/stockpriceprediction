{
  "nbformat": 4,
  "nbformat_minor": 0,
  "metadata": {
    "colab": {
      "provenance": []
    },
    "kernelspec": {
      "name": "python3",
      "display_name": "Python 3"
    },
    "language_info": {
      "name": "python"
    }
  },
  "cells": [
    {
      "cell_type": "code",
      "execution_count": 1,
      "metadata": {
        "id": "8ngG8FAIEtYQ"
      },
      "outputs": [],
      "source": [
        "import pandas as pd\n",
        "import numpy as np\n",
        "import matplotlib.pyplot as plt\n",
        "import seaborn as sns\n",
        "%matplotlib inline"
      ]
    },
    {
      "cell_type": "code",
      "source": [
        "# !pip install pandas_datareader"
      ],
      "metadata": {
        "id": "pW1IQYo4E7SL"
      },
      "execution_count": 2,
      "outputs": []
    },
    {
      "cell_type": "code",
      "source": [
        "# !pip install yfinance"
      ],
      "metadata": {
        "id": "P0PdNnnTE7Up"
      },
      "execution_count": 3,
      "outputs": []
    },
    {
      "cell_type": "code",
      "source": [
        "import yfinance as yf"
      ],
      "metadata": {
        "id": "ztjWbBCYE7XR"
      },
      "execution_count": 4,
      "outputs": []
    },
    {
      "cell_type": "code",
      "source": [
        "#Importing Technology Data - GOOG\n",
        "GOOG_df = yf.download(tickers='GOOG', period = '5y', interval = '1d')"
      ],
      "metadata": {
        "colab": {
          "base_uri": "https://localhost:8080/"
        },
        "id": "JXeAuTUbE7ap",
        "outputId": "6ab3c8cf-9e48-45f5-99d3-e7206f2ad2fa"
      },
      "execution_count": 5,
      "outputs": [
        {
          "output_type": "stream",
          "name": "stdout",
          "text": [
            "\r[*********************100%***********************]  1 of 1 completed\n"
          ]
        }
      ]
    },
    {
      "cell_type": "code",
      "source": [
        "GOOG_df.head()"
      ],
      "metadata": {
        "colab": {
          "base_uri": "https://localhost:8080/",
          "height": 237
        },
        "id": "RxrT98ZzHlDC",
        "outputId": "40c8c493-4aca-4345-8454-54943895f58d"
      },
      "execution_count": 6,
      "outputs": [
        {
          "output_type": "execute_result",
          "data": {
            "text/plain": [
              "                 Open       High        Low      Close  Adj Close    Volume\n",
              "Date                                                                       \n",
              "2018-07-05  55.526501  56.375000  55.424000  56.213501  56.213501  21334000\n",
              "2018-07-06  56.179001  57.046501  56.036850  57.008499  57.008499  19922000\n",
              "2018-07-09  57.424000  57.733501  57.171001  57.702499  57.702499  18180000\n",
              "2018-07-10  57.848999  57.979500  57.479500  57.641998  57.641998  15968000\n",
              "2018-07-11  57.229500  58.214500  57.049999  57.695000  57.695000  22400000"
            ],
            "text/html": [
              "\n",
              "  <div id=\"df-5ac7a387-f72e-4de6-bf1f-9afe9dc6c83f\">\n",
              "    <div class=\"colab-df-container\">\n",
              "      <div>\n",
              "<style scoped>\n",
              "    .dataframe tbody tr th:only-of-type {\n",
              "        vertical-align: middle;\n",
              "    }\n",
              "\n",
              "    .dataframe tbody tr th {\n",
              "        vertical-align: top;\n",
              "    }\n",
              "\n",
              "    .dataframe thead th {\n",
              "        text-align: right;\n",
              "    }\n",
              "</style>\n",
              "<table border=\"1\" class=\"dataframe\">\n",
              "  <thead>\n",
              "    <tr style=\"text-align: right;\">\n",
              "      <th></th>\n",
              "      <th>Open</th>\n",
              "      <th>High</th>\n",
              "      <th>Low</th>\n",
              "      <th>Close</th>\n",
              "      <th>Adj Close</th>\n",
              "      <th>Volume</th>\n",
              "    </tr>\n",
              "    <tr>\n",
              "      <th>Date</th>\n",
              "      <th></th>\n",
              "      <th></th>\n",
              "      <th></th>\n",
              "      <th></th>\n",
              "      <th></th>\n",
              "      <th></th>\n",
              "    </tr>\n",
              "  </thead>\n",
              "  <tbody>\n",
              "    <tr>\n",
              "      <th>2018-07-05</th>\n",
              "      <td>55.526501</td>\n",
              "      <td>56.375000</td>\n",
              "      <td>55.424000</td>\n",
              "      <td>56.213501</td>\n",
              "      <td>56.213501</td>\n",
              "      <td>21334000</td>\n",
              "    </tr>\n",
              "    <tr>\n",
              "      <th>2018-07-06</th>\n",
              "      <td>56.179001</td>\n",
              "      <td>57.046501</td>\n",
              "      <td>56.036850</td>\n",
              "      <td>57.008499</td>\n",
              "      <td>57.008499</td>\n",
              "      <td>19922000</td>\n",
              "    </tr>\n",
              "    <tr>\n",
              "      <th>2018-07-09</th>\n",
              "      <td>57.424000</td>\n",
              "      <td>57.733501</td>\n",
              "      <td>57.171001</td>\n",
              "      <td>57.702499</td>\n",
              "      <td>57.702499</td>\n",
              "      <td>18180000</td>\n",
              "    </tr>\n",
              "    <tr>\n",
              "      <th>2018-07-10</th>\n",
              "      <td>57.848999</td>\n",
              "      <td>57.979500</td>\n",
              "      <td>57.479500</td>\n",
              "      <td>57.641998</td>\n",
              "      <td>57.641998</td>\n",
              "      <td>15968000</td>\n",
              "    </tr>\n",
              "    <tr>\n",
              "      <th>2018-07-11</th>\n",
              "      <td>57.229500</td>\n",
              "      <td>58.214500</td>\n",
              "      <td>57.049999</td>\n",
              "      <td>57.695000</td>\n",
              "      <td>57.695000</td>\n",
              "      <td>22400000</td>\n",
              "    </tr>\n",
              "  </tbody>\n",
              "</table>\n",
              "</div>\n",
              "      <button class=\"colab-df-convert\" onclick=\"convertToInteractive('df-5ac7a387-f72e-4de6-bf1f-9afe9dc6c83f')\"\n",
              "              title=\"Convert this dataframe to an interactive table.\"\n",
              "              style=\"display:none;\">\n",
              "        \n",
              "  <svg xmlns=\"http://www.w3.org/2000/svg\" height=\"24px\"viewBox=\"0 0 24 24\"\n",
              "       width=\"24px\">\n",
              "    <path d=\"M0 0h24v24H0V0z\" fill=\"none\"/>\n",
              "    <path d=\"M18.56 5.44l.94 2.06.94-2.06 2.06-.94-2.06-.94-.94-2.06-.94 2.06-2.06.94zm-11 1L8.5 8.5l.94-2.06 2.06-.94-2.06-.94L8.5 2.5l-.94 2.06-2.06.94zm10 10l.94 2.06.94-2.06 2.06-.94-2.06-.94-.94-2.06-.94 2.06-2.06.94z\"/><path d=\"M17.41 7.96l-1.37-1.37c-.4-.4-.92-.59-1.43-.59-.52 0-1.04.2-1.43.59L10.3 9.45l-7.72 7.72c-.78.78-.78 2.05 0 2.83L4 21.41c.39.39.9.59 1.41.59.51 0 1.02-.2 1.41-.59l7.78-7.78 2.81-2.81c.8-.78.8-2.07 0-2.86zM5.41 20L4 18.59l7.72-7.72 1.47 1.35L5.41 20z\"/>\n",
              "  </svg>\n",
              "      </button>\n",
              "      \n",
              "  <style>\n",
              "    .colab-df-container {\n",
              "      display:flex;\n",
              "      flex-wrap:wrap;\n",
              "      gap: 12px;\n",
              "    }\n",
              "\n",
              "    .colab-df-convert {\n",
              "      background-color: #E8F0FE;\n",
              "      border: none;\n",
              "      border-radius: 50%;\n",
              "      cursor: pointer;\n",
              "      display: none;\n",
              "      fill: #1967D2;\n",
              "      height: 32px;\n",
              "      padding: 0 0 0 0;\n",
              "      width: 32px;\n",
              "    }\n",
              "\n",
              "    .colab-df-convert:hover {\n",
              "      background-color: #E2EBFA;\n",
              "      box-shadow: 0px 1px 2px rgba(60, 64, 67, 0.3), 0px 1px 3px 1px rgba(60, 64, 67, 0.15);\n",
              "      fill: #174EA6;\n",
              "    }\n",
              "\n",
              "    [theme=dark] .colab-df-convert {\n",
              "      background-color: #3B4455;\n",
              "      fill: #D2E3FC;\n",
              "    }\n",
              "\n",
              "    [theme=dark] .colab-df-convert:hover {\n",
              "      background-color: #434B5C;\n",
              "      box-shadow: 0px 1px 3px 1px rgba(0, 0, 0, 0.15);\n",
              "      filter: drop-shadow(0px 1px 2px rgba(0, 0, 0, 0.3));\n",
              "      fill: #FFFFFF;\n",
              "    }\n",
              "  </style>\n",
              "\n",
              "      <script>\n",
              "        const buttonEl =\n",
              "          document.querySelector('#df-5ac7a387-f72e-4de6-bf1f-9afe9dc6c83f button.colab-df-convert');\n",
              "        buttonEl.style.display =\n",
              "          google.colab.kernel.accessAllowed ? 'block' : 'none';\n",
              "\n",
              "        async function convertToInteractive(key) {\n",
              "          const element = document.querySelector('#df-5ac7a387-f72e-4de6-bf1f-9afe9dc6c83f');\n",
              "          const dataTable =\n",
              "            await google.colab.kernel.invokeFunction('convertToInteractive',\n",
              "                                                     [key], {});\n",
              "          if (!dataTable) return;\n",
              "\n",
              "          const docLinkHtml = 'Like what you see? Visit the ' +\n",
              "            '<a target=\"_blank\" href=https://colab.research.google.com/notebooks/data_table.ipynb>data table notebook</a>'\n",
              "            + ' to learn more about interactive tables.';\n",
              "          element.innerHTML = '';\n",
              "          dataTable['output_type'] = 'display_data';\n",
              "          await google.colab.output.renderOutput(dataTable, element);\n",
              "          const docLink = document.createElement('div');\n",
              "          docLink.innerHTML = docLinkHtml;\n",
              "          element.appendChild(docLink);\n",
              "        }\n",
              "      </script>\n",
              "    </div>\n",
              "  </div>\n",
              "  "
            ]
          },
          "metadata": {},
          "execution_count": 6
        }
      ]
    },
    {
      "cell_type": "code",
      "source": [
        "print('No missing data -->GOOG') if sum(GOOG_df.isnull().sum()) == 0 else (GOOG_df.isnull().sum())/len(GOOG_df)"
      ],
      "metadata": {
        "colab": {
          "base_uri": "https://localhost:8080/"
        },
        "id": "uZpVz5plHlFt",
        "outputId": "26143a7d-1e9f-4339-9414-456819acbe1b"
      },
      "execution_count": 7,
      "outputs": [
        {
          "output_type": "stream",
          "name": "stdout",
          "text": [
            "No missing data -->GOOG\n"
          ]
        }
      ]
    },
    {
      "cell_type": "code",
      "source": [
        "GOOG_df.dropna(how='all',inplace = True)"
      ],
      "metadata": {
        "id": "8er2vtrqHlIY"
      },
      "execution_count": 8,
      "outputs": []
    },
    {
      "cell_type": "code",
      "source": [
        "data = GOOG_df[['Close']]\n",
        "data.head()"
      ],
      "metadata": {
        "colab": {
          "base_uri": "https://localhost:8080/",
          "height": 237
        },
        "id": "7aAos64UHlK2",
        "outputId": "85c2a61e-c6ff-4dbc-b572-44132991a2df"
      },
      "execution_count": 9,
      "outputs": [
        {
          "output_type": "execute_result",
          "data": {
            "text/plain": [
              "                Close\n",
              "Date                 \n",
              "2018-07-05  56.213501\n",
              "2018-07-06  57.008499\n",
              "2018-07-09  57.702499\n",
              "2018-07-10  57.641998\n",
              "2018-07-11  57.695000"
            ],
            "text/html": [
              "\n",
              "  <div id=\"df-59075ad4-3e4e-42be-b51a-afeaf3985562\">\n",
              "    <div class=\"colab-df-container\">\n",
              "      <div>\n",
              "<style scoped>\n",
              "    .dataframe tbody tr th:only-of-type {\n",
              "        vertical-align: middle;\n",
              "    }\n",
              "\n",
              "    .dataframe tbody tr th {\n",
              "        vertical-align: top;\n",
              "    }\n",
              "\n",
              "    .dataframe thead th {\n",
              "        text-align: right;\n",
              "    }\n",
              "</style>\n",
              "<table border=\"1\" class=\"dataframe\">\n",
              "  <thead>\n",
              "    <tr style=\"text-align: right;\">\n",
              "      <th></th>\n",
              "      <th>Close</th>\n",
              "    </tr>\n",
              "    <tr>\n",
              "      <th>Date</th>\n",
              "      <th></th>\n",
              "    </tr>\n",
              "  </thead>\n",
              "  <tbody>\n",
              "    <tr>\n",
              "      <th>2018-07-05</th>\n",
              "      <td>56.213501</td>\n",
              "    </tr>\n",
              "    <tr>\n",
              "      <th>2018-07-06</th>\n",
              "      <td>57.008499</td>\n",
              "    </tr>\n",
              "    <tr>\n",
              "      <th>2018-07-09</th>\n",
              "      <td>57.702499</td>\n",
              "    </tr>\n",
              "    <tr>\n",
              "      <th>2018-07-10</th>\n",
              "      <td>57.641998</td>\n",
              "    </tr>\n",
              "    <tr>\n",
              "      <th>2018-07-11</th>\n",
              "      <td>57.695000</td>\n",
              "    </tr>\n",
              "  </tbody>\n",
              "</table>\n",
              "</div>\n",
              "      <button class=\"colab-df-convert\" onclick=\"convertToInteractive('df-59075ad4-3e4e-42be-b51a-afeaf3985562')\"\n",
              "              title=\"Convert this dataframe to an interactive table.\"\n",
              "              style=\"display:none;\">\n",
              "        \n",
              "  <svg xmlns=\"http://www.w3.org/2000/svg\" height=\"24px\"viewBox=\"0 0 24 24\"\n",
              "       width=\"24px\">\n",
              "    <path d=\"M0 0h24v24H0V0z\" fill=\"none\"/>\n",
              "    <path d=\"M18.56 5.44l.94 2.06.94-2.06 2.06-.94-2.06-.94-.94-2.06-.94 2.06-2.06.94zm-11 1L8.5 8.5l.94-2.06 2.06-.94-2.06-.94L8.5 2.5l-.94 2.06-2.06.94zm10 10l.94 2.06.94-2.06 2.06-.94-2.06-.94-.94-2.06-.94 2.06-2.06.94z\"/><path d=\"M17.41 7.96l-1.37-1.37c-.4-.4-.92-.59-1.43-.59-.52 0-1.04.2-1.43.59L10.3 9.45l-7.72 7.72c-.78.78-.78 2.05 0 2.83L4 21.41c.39.39.9.59 1.41.59.51 0 1.02-.2 1.41-.59l7.78-7.78 2.81-2.81c.8-.78.8-2.07 0-2.86zM5.41 20L4 18.59l7.72-7.72 1.47 1.35L5.41 20z\"/>\n",
              "  </svg>\n",
              "      </button>\n",
              "      \n",
              "  <style>\n",
              "    .colab-df-container {\n",
              "      display:flex;\n",
              "      flex-wrap:wrap;\n",
              "      gap: 12px;\n",
              "    }\n",
              "\n",
              "    .colab-df-convert {\n",
              "      background-color: #E8F0FE;\n",
              "      border: none;\n",
              "      border-radius: 50%;\n",
              "      cursor: pointer;\n",
              "      display: none;\n",
              "      fill: #1967D2;\n",
              "      height: 32px;\n",
              "      padding: 0 0 0 0;\n",
              "      width: 32px;\n",
              "    }\n",
              "\n",
              "    .colab-df-convert:hover {\n",
              "      background-color: #E2EBFA;\n",
              "      box-shadow: 0px 1px 2px rgba(60, 64, 67, 0.3), 0px 1px 3px 1px rgba(60, 64, 67, 0.15);\n",
              "      fill: #174EA6;\n",
              "    }\n",
              "\n",
              "    [theme=dark] .colab-df-convert {\n",
              "      background-color: #3B4455;\n",
              "      fill: #D2E3FC;\n",
              "    }\n",
              "\n",
              "    [theme=dark] .colab-df-convert:hover {\n",
              "      background-color: #434B5C;\n",
              "      box-shadow: 0px 1px 3px 1px rgba(0, 0, 0, 0.15);\n",
              "      filter: drop-shadow(0px 1px 2px rgba(0, 0, 0, 0.3));\n",
              "      fill: #FFFFFF;\n",
              "    }\n",
              "  </style>\n",
              "\n",
              "      <script>\n",
              "        const buttonEl =\n",
              "          document.querySelector('#df-59075ad4-3e4e-42be-b51a-afeaf3985562 button.colab-df-convert');\n",
              "        buttonEl.style.display =\n",
              "          google.colab.kernel.accessAllowed ? 'block' : 'none';\n",
              "\n",
              "        async function convertToInteractive(key) {\n",
              "          const element = document.querySelector('#df-59075ad4-3e4e-42be-b51a-afeaf3985562');\n",
              "          const dataTable =\n",
              "            await google.colab.kernel.invokeFunction('convertToInteractive',\n",
              "                                                     [key], {});\n",
              "          if (!dataTable) return;\n",
              "\n",
              "          const docLinkHtml = 'Like what you see? Visit the ' +\n",
              "            '<a target=\"_blank\" href=https://colab.research.google.com/notebooks/data_table.ipynb>data table notebook</a>'\n",
              "            + ' to learn more about interactive tables.';\n",
              "          element.innerHTML = '';\n",
              "          dataTable['output_type'] = 'display_data';\n",
              "          await google.colab.output.renderOutput(dataTable, element);\n",
              "          const docLink = document.createElement('div');\n",
              "          docLink.innerHTML = docLinkHtml;\n",
              "          element.appendChild(docLink);\n",
              "        }\n",
              "      </script>\n",
              "    </div>\n",
              "  </div>\n",
              "  "
            ]
          },
          "metadata": {},
          "execution_count": 9
        }
      ]
    },
    {
      "cell_type": "code",
      "source": [
        "plt.plot(data)"
      ],
      "metadata": {
        "colab": {
          "base_uri": "https://localhost:8080/",
          "height": 448
        },
        "id": "9kzey--CHlOU",
        "outputId": "e6e9e544-aae0-4650-b75b-105b94869468"
      },
      "execution_count": 10,
      "outputs": [
        {
          "output_type": "execute_result",
          "data": {
            "text/plain": [
              "[<matplotlib.lines.Line2D at 0x7f982cbc0c10>]"
            ]
          },
          "metadata": {},
          "execution_count": 10
        },
        {
          "output_type": "display_data",
          "data": {
            "text/plain": [
              "<Figure size 640x480 with 1 Axes>"
            ],
            "image/png": "[encoded data removed]"
          },
          "metadata": {}
        }
      ]
    },
    {
      "cell_type": "code",
      "source": [
        "#Normalizing the data :\n",
        "\n",
        "from sklearn.preprocessing import MinMaxScaler\n",
        "scaler=MinMaxScaler(feature_range=(0,1))\n",
        "data=scaler.fit_transform(np.array(data).reshape(-1,1))"
      ],
      "metadata": {
        "id": "DMbmUh_iIrSp"
      },
      "execution_count": 11,
      "outputs": []
    },
    {
      "cell_type": "code",
      "source": [
        "##splitting dataset into train and test split\n",
        "training_size=int(len(data)*0.80)\n",
        "test_size=len(data)-training_size\n",
        "train_data,test_data=data[0:training_size,:],data[training_size:len(data),:1]"
      ],
      "metadata": {
        "id": "u-HeTh1CIrVP"
      },
      "execution_count": 12,
      "outputs": []
    },
    {
      "cell_type": "code",
      "source": [
        "training_size,test_size"
      ],
      "metadata": {
        "colab": {
          "base_uri": "https://localhost:8080/"
        },
        "id": "Vyd4I48eIrYE",
        "outputId": "fa9fadab-b386-469c-c883-155010e44ae6"
      },
      "execution_count": 13,
      "outputs": [
        {
          "output_type": "execute_result",
          "data": {
            "text/plain": [
              "(1005, 252)"
            ]
          },
          "metadata": {},
          "execution_count": 13
        }
      ]
    },
    {
      "cell_type": "code",
      "source": [
        "train_data"
      ],
      "metadata": {
        "colab": {
          "base_uri": "https://localhost:8080/"
        },
        "id": "Snp59eDQIras",
        "outputId": "597cc60d-7991-485b-b84f-6c876041da82"
      },
      "execution_count": 14,
      "outputs": [
        {
          "output_type": "execute_result",
          "data": {
            "text/plain": [
              "array([[0.07264618],\n",
              "       [0.08044808],\n",
              "       [0.08725881],\n",
              "       ...,\n",
              "       [0.6257287 ],\n",
              "       [0.62263734],\n",
              "       [0.59433451]])"
            ]
          },
          "metadata": {},
          "execution_count": 14
        }
      ]
    },
    {
      "cell_type": "code",
      "source": [
        "test_data"
      ],
      "metadata": {
        "colab": {
          "base_uri": "https://localhost:8080/"
        },
        "id": "q9S5-c8kIreP",
        "outputId": "2ee7c384-0a34-424d-f27d-d2124e9fc6d3"
      },
      "execution_count": 15,
      "outputs": [
        {
          "output_type": "execute_result",
          "data": {
            "text/plain": [
              "array([[0.59147384],\n",
              "       [0.63863865],\n",
              "       [0.65165657],\n",
              "       [0.69181927],\n",
              "       [0.70028364],\n",
              "       [0.66450273],\n",
              "       [0.64808438],\n",
              "       [0.62195525],\n",
              "       [0.61462445],\n",
              "       [0.62764724],\n",
              "       [0.59960945],\n",
              "       [0.64583213],\n",
              "       [0.64661717],\n",
              "       [0.64995388],\n",
              "       [0.58439813],\n",
              "       [0.58292605],\n",
              "       [0.55574204],\n",
              "       [0.63582208],\n",
              "       [0.64553766],\n",
              "       [0.66565585],\n",
              "       [0.65427195],\n",
              "       [0.6583937 ],\n",
              "       [0.68665723],\n",
              "       [0.68754051],\n",
              "       [0.68116157],\n",
              "       [0.68037645],\n",
              "       [0.67409566],\n",
              "       [0.70500895],\n",
              "       [0.69686353],\n",
              "       [0.72463642],\n",
              "       [0.72689353],\n",
              "       [0.7232625 ],\n",
              "       [0.70177039],\n",
              "       [0.70706982],\n",
              "       [0.68018021],\n",
              "       [0.65024828],\n",
              "       [0.64730413],\n",
              "       [0.64661717],\n",
              "       [0.67605838],\n",
              "       [0.61325053],\n",
              "       [0.60382928],\n",
              "       [0.59960945],\n",
              "       [0.59215099],\n",
              "       [0.60589023],\n",
              "       [0.58753852],\n",
              "       [0.57576207],\n",
              "       [0.60520327],\n",
              "       [0.59480066],\n",
              "       [0.61796109],\n",
              "       [0.61884436],\n",
              "       [0.55446621],\n",
              "       [0.55996195],\n",
              "       [0.54062888],\n",
              "       [0.53797913],\n",
              "       [0.54013816],\n",
              "       [0.52031445],\n",
              "       [0.50245345],\n",
              "       [0.50794912],\n",
              "       [0.49420988],\n",
              "       [0.49067693],\n",
              "       [0.48361102],\n",
              "       [0.50961744],\n",
              "       [0.48361102],\n",
              "       [0.46457243],\n",
              "       [0.49548571],\n",
              "       [0.52600643],\n",
              "       [0.5241418 ],\n",
              "       [0.52433804],\n",
              "       [0.49813539],\n",
              "       [0.48969557],\n",
              "       [0.48321854],\n",
              "       [0.48567197],\n",
              "       [0.4995093 ],\n",
              "       [0.47468056],\n",
              "       [0.51001   ],\n",
              "       [0.51599638],\n",
              "       [0.50520129],\n",
              "       [0.50755656],\n",
              "       [0.51687966],\n",
              "       [0.5315021 ],\n",
              "       [0.55073701],\n",
              "       [0.45152014],\n",
              "       [0.42973364],\n",
              "       [0.46879234],\n",
              "       [0.44994998],\n",
              "       [0.40912481],\n",
              "       [0.37546369],\n",
              "       [0.3403305 ],\n",
              "       [0.37183258],\n",
              "       [0.39096941],\n",
              "       [0.393521  ],\n",
              "       [0.37870224],\n",
              "       [0.4451412 ],\n",
              "       [0.47026441],\n",
              "       [0.46339475],\n",
              "       [0.48979372],\n",
              "       [0.4924434 ],\n",
              "       [0.48763469],\n",
              "       [0.48076511],\n",
              "       [0.46143204],\n",
              "       [0.47615264],\n",
              "       [0.49077508],\n",
              "       [0.47880231],\n",
              "       [0.46555379],\n",
              "       [0.45760468],\n",
              "       [0.51658518],\n",
              "       [0.51491686],\n",
              "       [0.51050071],\n",
              "       [0.50107954],\n",
              "       [0.47595632],\n",
              "       [0.45475869],\n",
              "       [0.44298217],\n",
              "       [0.4343461 ],\n",
              "       [0.43915481],\n",
              "       [0.46162828],\n",
              "       [0.45632885],\n",
              "       [0.41599439],\n",
              "       [0.41265776],\n",
              "       [0.39587628],\n",
              "       [0.40058683],\n",
              "       [0.40667137],\n",
              "       [0.38714206],\n",
              "       [0.40235331],\n",
              "       [0.38390351],\n",
              "       [0.36947731],\n",
              "       [0.39391349],\n",
              "       [0.39175453],\n",
              "       [0.40127379],\n",
              "       [0.39155821],\n",
              "       [0.37251954],\n",
              "       [0.3861607 ],\n",
              "       [0.39244149],\n",
              "       [0.39675948],\n",
              "       [0.426397  ],\n",
              "       [0.42296221],\n",
              "       [0.43169643],\n",
              "       [0.42541564],\n",
              "       [0.42168638],\n",
              "       [0.44258968],\n",
              "       [0.49528939],\n",
              "       [0.51422991],\n",
              "       [0.49460243],\n",
              "       [0.47026441],\n",
              "       [0.49411179],\n",
              "       [0.50932304],\n",
              "       [0.48223711],\n",
              "       [0.50107954],\n",
              "       [0.51638894],\n",
              "       [0.5887162 ],\n",
              "       [0.55358301],\n",
              "       [0.53640897],\n",
              "       [0.58125774],\n",
              "       [0.50235529],\n",
              "       [0.45780093],\n",
              "       [0.4519127 ],\n",
              "       [0.45328662],\n",
              "       [0.4527959 ],\n",
              "       [0.47389545],\n",
              "       [0.46094132],\n",
              "       [0.44926295],\n",
              "       [0.42433613],\n",
              "       [0.42188269],\n",
              "       [0.41471863],\n",
              "       [0.397839  ],\n",
              "       [0.4051993 ],\n",
              "       [0.40716209],\n",
              "       [0.40922297],\n",
              "       [0.42688764],\n",
              "       [0.44366912],\n",
              "       [0.4589786 ],\n",
              "       [0.4451412 ],\n",
              "       [0.44985182],\n",
              "       [0.43032251],\n",
              "       [0.41412983],\n",
              "       [0.42050878],\n",
              "       [0.44592632],\n",
              "       [0.46849794],\n",
              "       [0.51285599],\n",
              "       [0.52649707],\n",
              "       [0.52129581],\n",
              "       [0.55966747],\n",
              "       [0.54376927],\n",
              "       [0.5637893 ],\n",
              "       [0.56182651],\n",
              "       [0.5323853 ],\n",
              "       [0.51570198],\n",
              "       [0.52100141],\n",
              "       [0.51530942],\n",
              "       [0.54161024],\n",
              "       [0.55054077],\n",
              "       [0.55260165],\n",
              "       [0.55093325],\n",
              "       [0.58969755],\n",
              "       [0.57056073],\n",
              "       [0.56241538],\n",
              "       [0.55358301],\n",
              "       [0.58272981],\n",
              "       [0.59519322],\n",
              "       [0.56535946],\n",
              "       [0.55260165],\n",
              "       [0.55162021],\n",
              "       [0.56025635],\n",
              "       [0.56035451],\n",
              "       [0.56889241],\n",
              "       [0.54759662],\n",
              "       [0.54602639],\n",
              "       [0.58449629],\n",
              "       [0.58302421],\n",
              "       [0.57801919],\n",
              "       [0.56104147],\n",
              "       [0.56241538],\n",
              "       [0.55348485],\n",
              "       [0.56334762],\n",
              "       [0.58322045],\n",
              "       [0.58027638],\n",
              "       [0.62286795],\n",
              "       [0.66820744],\n",
              "       [0.67821741],\n",
              "       [0.66879624],\n",
              "       [0.6995132 ],\n",
              "       [0.71315436],\n",
              "       [0.73317432],\n",
              "       [0.73052464],\n",
              "       [0.75623666],\n",
              "       [0.7309172 ],\n",
              "       [0.71472452],\n",
              "       [0.74131974],\n",
              "       [0.75191859],\n",
              "       [0.74416573],\n",
              "       [0.73170232],\n",
              "       [0.74151605],\n",
              "       [0.74995587],\n",
              "       [0.76369504],\n",
              "       [0.77625669],\n",
              "       [0.72748241],\n",
              "       [0.72483266],\n",
              "       [0.72679545],\n",
              "       [0.74131974],\n",
              "       [0.74210485],\n",
              "       [0.74161414],\n",
              "       [0.75545154],\n",
              "       [0.73847374],\n",
              "       [0.73641287],\n",
              "       [0.71099533],\n",
              "       [0.73660919],\n",
              "       [0.72826745],\n",
              "       [0.68969947],\n",
              "       [0.68891443],\n",
              "       [0.70922885],\n",
              "       [0.69872816],\n",
              "       [0.70814934],\n",
              "       [0.70412567]])"
            ]
          },
          "metadata": {},
          "execution_count": 15
        }
      ]
    },
    {
      "cell_type": "code",
      "source": [
        "import numpy\n",
        "# convert an array of values into a dataset matrix\n",
        "def create_dataset(dataset, time_step=1):\n",
        "\tdataX, dataY = [], []\n",
        "\tfor i in range(len(dataset)-time_step-1):\n",
        "\t\ta = dataset[i:(i+time_step), 0]   ###i=0, 0,1,2,3-----99   100\n",
        "\t\tdataX.append(a)\n",
        "\t\tdataY.append(dataset[i + time_step, 0])\n",
        "\treturn numpy.array(dataX), numpy.array(dataY)"
      ],
      "metadata": {
        "id": "Cqx_uPe3KC3I"
      },
      "execution_count": 16,
      "outputs": []
    },
    {
      "cell_type": "code",
      "source": [
        "# reshape into X=t,t+1,t+2,t+3 and Y=t+4\n",
        "time_step = 100\n",
        "X_train, y_train = create_dataset(train_data, time_step)\n",
        "X_test, ytest = create_dataset(test_data, time_step)"
      ],
      "metadata": {
        "id": "HS3yT7l1KC5_"
      },
      "execution_count": 17,
      "outputs": []
    },
    {
      "cell_type": "code",
      "source": [
        "print(X_train.shape), print(y_train.shape)"
      ],
      "metadata": {
        "colab": {
          "base_uri": "https://localhost:8080/"
        },
        "id": "Ze_ysikAKC83",
        "outputId": "26c851ee-0105-4431-b028-3e5296dbabed"
      },
      "execution_count": 18,
      "outputs": [
        {
          "output_type": "stream",
          "name": "stdout",
          "text": [
            "(904, 100)\n",
            "(904,)\n"
          ]
        },
        {
          "output_type": "execute_result",
          "data": {
            "text/plain": [
              "(None, None)"
            ]
          },
          "metadata": {},
          "execution_count": 18
        }
      ]
    },
    {
      "cell_type": "code",
      "source": [
        "print(X_test.shape), print(ytest.shape)"
      ],
      "metadata": {
        "colab": {
          "base_uri": "https://localhost:8080/"
        },
        "id": "jbjnJx4QKC_z",
        "outputId": "5a01ecd9-66f7-4d74-8f50-e190778123bc"
      },
      "execution_count": 19,
      "outputs": [
        {
          "output_type": "stream",
          "name": "stdout",
          "text": [
            "(151, 100)\n",
            "(151,)\n"
          ]
        },
        {
          "output_type": "execute_result",
          "data": {
            "text/plain": [
              "(None, None)"
            ]
          },
          "metadata": {},
          "execution_count": 19
        }
      ]
    },
    {
      "cell_type": "code",
      "source": [
        "# reshape input to be [samples, time steps, features] which is required for LSTM\n",
        "X_train =X_train.reshape(X_train.shape[0],X_train.shape[1] , 1)\n",
        "X_test = X_test.reshape(X_test.shape[0],X_test.shape[1] , 1)"
      ],
      "metadata": {
        "id": "tjwpuknbKDDI"
      },
      "execution_count": 20,
      "outputs": []
    },
    {
      "cell_type": "code",
      "source": [
        "### Create the Stacked LSTM model\n",
        "from tensorflow.keras.models import Sequential\n",
        "from tensorflow.keras.layers import Dense\n",
        "from tensorflow.keras.layers import LSTM"
      ],
      "metadata": {
        "id": "34FMFfknKDFv"
      },
      "execution_count": 21,
      "outputs": []
    },
    {
      "cell_type": "code",
      "source": [
        "model=Sequential()\n",
        "model.add(LSTM(50,return_sequences=True,input_shape=(100,1)))\n",
        "model.add(LSTM(50,return_sequences=True))\n",
        "model.add(LSTM(50))\n",
        "model.add(Dense(1))\n",
        "model.compile(loss='mean_squared_error',optimizer='adam')"
      ],
      "metadata": {
        "id": "GPS3C_3IKDJP"
      },
      "execution_count": 22,
      "outputs": []
    },
    {
      "cell_type": "code",
      "source": [
        "model.summary()"
      ],
      "metadata": {
        "colab": {
          "base_uri": "https://localhost:8080/"
        },
        "id": "ASZYYh3pMM-y",
        "outputId": "e4df10af-c6f4-4943-ed93-8444c12738b5"
      },
      "execution_count": 23,
      "outputs": [
        {
          "output_type": "stream",
          "name": "stdout",
          "text": [
            "Model: \"sequential\"\n",
            "_________________________________________________________________\n",
            " Layer (type)                Output Shape              Param #   \n",
            "=================================================================\n",
            " lstm (LSTM)                 (None, 100, 50)           10400     \n",
            "                                                                 \n",
            " lstm_1 (LSTM)               (None, 100, 50)           20200     \n",
            "                                                                 \n",
            " lstm_2 (LSTM)               (None, 50)                20200     \n",
            "                                                                 \n",
            " dense (Dense)               (None, 1)                 51        \n",
            "                                                                 \n",
            "=================================================================\n",
            "Total params: 50,851\n",
            "Trainable params: 50,851\n",
            "Non-trainable params: 0\n",
            "_________________________________________________________________\n"
          ]
        }
      ]
    },
    {
      "cell_type": "code",
      "source": [
        "model.fit(X_train,y_train,validation_data=(X_test,ytest),epochs=100,batch_size=64,verbose=1)"
      ],
      "metadata": {
        "colab": {
          "base_uri": "https://localhost:8080/"
        },
        "id": "M0jHEQr1MNBm",
        "outputId": "ffc43370-dc50-4577-b013-f64217ce3413"
      },
      "execution_count": 24,
      "outputs": [
        {
          "output_type": "stream",
          "name": "stdout",
          "text": [
            "Epoch 1/100\n",
            "15/15 [==============================] - 20s 469ms/step - loss: 0.0674 - val_loss: 0.0197\n",
            "Epoch 2/100\n",
            "15/15 [==============================] - 4s 251ms/step - loss: 0.0078 - val_loss: 0.0058\n",
            "Epoch 3/100\n",
            "15/15 [==============================] - 3s 204ms/step - loss: 0.0031 - val_loss: 0.0042\n",
            "Epoch 4/100\n",
            "15/15 [==============================] - 3s 185ms/step - loss: 0.0024 - val_loss: 0.0036\n",
            "Epoch 5/100\n",
            "15/15 [==============================] - 3s 184ms/step - loss: 0.0021 - val_loss: 0.0036\n",
            "Epoch 6/100\n",
            "15/15 [==============================] - 4s 266ms/step - loss: 0.0020 - val_loss: 0.0035\n",
            "Epoch 7/100\n",
            "15/15 [==============================] - 3s 185ms/step - loss: 0.0020 - val_loss: 0.0034\n",
            "Epoch 8/100\n",
            "15/15 [==============================] - 3s 184ms/step - loss: 0.0020 - val_loss: 0.0034\n",
            "Epoch 9/100\n",
            "15/15 [==============================] - 3s 187ms/step - loss: 0.0021 - val_loss: 0.0033\n",
            "Epoch 10/100\n",
            "15/15 [==============================] - 4s 266ms/step - loss: 0.0019 - val_loss: 0.0034\n",
            "Epoch 11/100\n",
            "15/15 [==============================] - 3s 186ms/step - loss: 0.0019 - val_loss: 0.0033\n",
            "Epoch 12/100\n",
            "15/15 [==============================] - 3s 188ms/step - loss: 0.0019 - val_loss: 0.0033\n",
            "Epoch 13/100\n",
            "15/15 [==============================] - 3s 187ms/step - loss: 0.0019 - val_loss: 0.0033\n",
            "Epoch 14/100\n",
            "15/15 [==============================] - 4s 276ms/step - loss: 0.0017 - val_loss: 0.0035\n",
            "Epoch 15/100\n",
            "15/15 [==============================] - 3s 186ms/step - loss: 0.0018 - val_loss: 0.0031\n",
            "Epoch 16/100\n",
            "15/15 [==============================] - 3s 186ms/step - loss: 0.0017 - val_loss: 0.0030\n",
            "Epoch 17/100\n",
            "15/15 [==============================] - 3s 186ms/step - loss: 0.0016 - val_loss: 0.0031\n",
            "Epoch 18/100\n",
            "15/15 [==============================] - 4s 268ms/step - loss: 0.0016 - val_loss: 0.0031\n",
            "Epoch 19/100\n",
            "15/15 [==============================] - 3s 187ms/step - loss: 0.0015 - val_loss: 0.0029\n",
            "Epoch 20/100\n",
            "15/15 [==============================] - 3s 185ms/step - loss: 0.0017 - val_loss: 0.0032\n",
            "Epoch 21/100\n",
            "15/15 [==============================] - 3s 186ms/step - loss: 0.0016 - val_loss: 0.0029\n",
            "Epoch 22/100\n",
            "15/15 [==============================] - 4s 241ms/step - loss: 0.0015 - val_loss: 0.0034\n",
            "Epoch 23/100\n",
            "15/15 [==============================] - 3s 203ms/step - loss: 0.0016 - val_loss: 0.0028\n",
            "Epoch 24/100\n",
            "15/15 [==============================] - 3s 187ms/step - loss: 0.0014 - val_loss: 0.0026\n",
            "Epoch 25/100\n",
            "15/15 [==============================] - 3s 185ms/step - loss: 0.0013 - val_loss: 0.0027\n",
            "Epoch 26/100\n",
            "15/15 [==============================] - 3s 224ms/step - loss: 0.0013 - val_loss: 0.0025\n",
            "Epoch 27/100\n",
            "15/15 [==============================] - 3s 219ms/step - loss: 0.0013 - val_loss: 0.0025\n",
            "Epoch 28/100\n",
            "15/15 [==============================] - 3s 186ms/step - loss: 0.0013 - val_loss: 0.0027\n",
            "Epoch 29/100\n",
            "15/15 [==============================] - 3s 187ms/step - loss: 0.0013 - val_loss: 0.0025\n",
            "Epoch 30/100\n",
            "15/15 [==============================] - 5s 339ms/step - loss: 0.0014 - val_loss: 0.0023\n",
            "Epoch 31/100\n",
            "15/15 [==============================] - 3s 193ms/step - loss: 0.0013 - val_loss: 0.0034\n",
            "Epoch 32/100\n",
            "15/15 [==============================] - 3s 195ms/step - loss: 0.0015 - val_loss: 0.0025\n",
            "Epoch 33/100\n",
            "15/15 [==============================] - 3s 188ms/step - loss: 0.0014 - val_loss: 0.0021\n",
            "Epoch 34/100\n",
            "15/15 [==============================] - 4s 244ms/step - loss: 0.0012 - val_loss: 0.0020\n",
            "Epoch 35/100\n",
            "15/15 [==============================] - 3s 202ms/step - loss: 0.0012 - val_loss: 0.0020\n",
            "Epoch 36/100\n",
            "15/15 [==============================] - 3s 186ms/step - loss: 0.0011 - val_loss: 0.0020\n",
            "Epoch 37/100\n",
            "15/15 [==============================] - 3s 189ms/step - loss: 0.0011 - val_loss: 0.0019\n",
            "Epoch 38/100\n",
            "15/15 [==============================] - 3s 222ms/step - loss: 0.0011 - val_loss: 0.0018\n",
            "Epoch 39/100\n",
            "15/15 [==============================] - 3s 222ms/step - loss: 0.0011 - val_loss: 0.0020\n",
            "Epoch 40/100\n",
            "15/15 [==============================] - 3s 199ms/step - loss: 0.0013 - val_loss: 0.0017\n",
            "Epoch 41/100\n",
            "15/15 [==============================] - 3s 191ms/step - loss: 0.0011 - val_loss: 0.0017\n",
            "Epoch 42/100\n",
            "15/15 [==============================] - 3s 229ms/step - loss: 0.0011 - val_loss: 0.0017\n",
            "Epoch 43/100\n",
            "15/15 [==============================] - 3s 223ms/step - loss: 0.0011 - val_loss: 0.0020\n",
            "Epoch 44/100\n",
            "15/15 [==============================] - 3s 188ms/step - loss: 0.0011 - val_loss: 0.0016\n",
            "Epoch 45/100\n",
            "15/15 [==============================] - 3s 190ms/step - loss: 0.0010 - val_loss: 0.0018\n",
            "Epoch 46/100\n",
            "15/15 [==============================] - 3s 211ms/step - loss: 0.0010 - val_loss: 0.0015\n",
            "Epoch 47/100\n",
            "15/15 [==============================] - 4s 239ms/step - loss: 9.9924e-04 - val_loss: 0.0015\n",
            "Epoch 48/100\n",
            "15/15 [==============================] - 3s 185ms/step - loss: 0.0010 - val_loss: 0.0015\n",
            "Epoch 49/100\n",
            "15/15 [==============================] - 3s 187ms/step - loss: 9.9196e-04 - val_loss: 0.0016\n",
            "Epoch 50/100\n",
            "15/15 [==============================] - 3s 198ms/step - loss: 9.7484e-04 - val_loss: 0.0015\n",
            "Epoch 51/100\n",
            "15/15 [==============================] - 4s 256ms/step - loss: 9.7208e-04 - val_loss: 0.0014\n",
            "Epoch 52/100\n",
            "15/15 [==============================] - 3s 190ms/step - loss: 9.2816e-04 - val_loss: 0.0014\n",
            "Epoch 53/100\n",
            "15/15 [==============================] - 3s 191ms/step - loss: 9.8699e-04 - val_loss: 0.0014\n",
            "Epoch 54/100\n",
            "15/15 [==============================] - 3s 189ms/step - loss: 9.3627e-04 - val_loss: 0.0019\n",
            "Epoch 55/100\n",
            "15/15 [==============================] - 4s 265ms/step - loss: 9.8782e-04 - val_loss: 0.0013\n",
            "Epoch 56/100\n",
            "15/15 [==============================] - 3s 189ms/step - loss: 9.2108e-04 - val_loss: 0.0017\n",
            "Epoch 57/100\n",
            "15/15 [==============================] - 3s 185ms/step - loss: 9.4580e-04 - val_loss: 0.0013\n",
            "Epoch 58/100\n",
            "15/15 [==============================] - 3s 187ms/step - loss: 9.1914e-04 - val_loss: 0.0017\n",
            "Epoch 59/100\n",
            "15/15 [==============================] - 4s 271ms/step - loss: 9.2508e-04 - val_loss: 0.0013\n",
            "Epoch 60/100\n",
            "15/15 [==============================] - 3s 187ms/step - loss: 0.0010 - val_loss: 0.0013\n",
            "Epoch 61/100\n",
            "15/15 [==============================] - 3s 188ms/step - loss: 9.7291e-04 - val_loss: 0.0012\n",
            "Epoch 62/100\n",
            "15/15 [==============================] - 3s 184ms/step - loss: 8.4610e-04 - val_loss: 0.0016\n",
            "Epoch 63/100\n",
            "15/15 [==============================] - 4s 267ms/step - loss: 8.6241e-04 - val_loss: 0.0013\n",
            "Epoch 64/100\n",
            "15/15 [==============================] - 3s 188ms/step - loss: 8.8826e-04 - val_loss: 0.0012\n",
            "Epoch 65/100\n",
            "15/15 [==============================] - 3s 187ms/step - loss: 8.3147e-04 - val_loss: 0.0013\n",
            "Epoch 66/100\n",
            "15/15 [==============================] - 3s 187ms/step - loss: 8.5938e-04 - val_loss: 0.0012\n",
            "Epoch 67/100\n",
            "15/15 [==============================] - 4s 261ms/step - loss: 8.0837e-04 - val_loss: 0.0016\n",
            "Epoch 68/100\n",
            "15/15 [==============================] - 3s 186ms/step - loss: 8.5927e-04 - val_loss: 0.0012\n",
            "Epoch 69/100\n",
            "15/15 [==============================] - 3s 187ms/step - loss: 9.1947e-04 - val_loss: 0.0020\n",
            "Epoch 70/100\n",
            "15/15 [==============================] - 3s 187ms/step - loss: 0.0012 - val_loss: 0.0012\n",
            "Epoch 71/100\n",
            "15/15 [==============================] - 4s 249ms/step - loss: 8.7446e-04 - val_loss: 0.0013\n",
            "Epoch 72/100\n",
            "15/15 [==============================] - 3s 195ms/step - loss: 8.0304e-04 - val_loss: 0.0013\n",
            "Epoch 73/100\n",
            "15/15 [==============================] - 3s 185ms/step - loss: 8.5482e-04 - val_loss: 0.0011\n",
            "Epoch 74/100\n",
            "15/15 [==============================] - 3s 186ms/step - loss: 8.2015e-04 - val_loss: 0.0012\n",
            "Epoch 75/100\n",
            "15/15 [==============================] - 3s 220ms/step - loss: 7.4729e-04 - val_loss: 0.0011\n",
            "Epoch 76/100\n",
            "15/15 [==============================] - 3s 223ms/step - loss: 7.4481e-04 - val_loss: 0.0012\n",
            "Epoch 77/100\n",
            "15/15 [==============================] - 3s 186ms/step - loss: 7.3401e-04 - val_loss: 0.0013\n",
            "Epoch 78/100\n",
            "15/15 [==============================] - 3s 185ms/step - loss: 7.5336e-04 - val_loss: 0.0011\n",
            "Epoch 79/100\n",
            "15/15 [==============================] - 3s 204ms/step - loss: 7.1335e-04 - val_loss: 0.0012\n",
            "Epoch 80/100\n",
            "15/15 [==============================] - 4s 243ms/step - loss: 7.1574e-04 - val_loss: 0.0010\n",
            "Epoch 81/100\n",
            "15/15 [==============================] - 3s 190ms/step - loss: 7.1122e-04 - val_loss: 0.0011\n",
            "Epoch 82/100\n",
            "15/15 [==============================] - 3s 188ms/step - loss: 7.7184e-04 - val_loss: 0.0013\n",
            "Epoch 83/100\n",
            "15/15 [==============================] - 3s 186ms/step - loss: 8.0793e-04 - val_loss: 0.0010\n",
            "Epoch 84/100\n",
            "15/15 [==============================] - 4s 261ms/step - loss: 6.8913e-04 - val_loss: 0.0010\n",
            "Epoch 85/100\n",
            "15/15 [==============================] - 3s 187ms/step - loss: 6.9204e-04 - val_loss: 0.0010\n",
            "Epoch 86/100\n",
            "15/15 [==============================] - 3s 187ms/step - loss: 6.5968e-04 - val_loss: 0.0011\n",
            "Epoch 87/100\n",
            "15/15 [==============================] - 3s 200ms/step - loss: 7.7840e-04 - val_loss: 0.0011\n",
            "Epoch 88/100\n",
            "15/15 [==============================] - 4s 269ms/step - loss: 7.2688e-04 - val_loss: 0.0012\n",
            "Epoch 89/100\n",
            "15/15 [==============================] - 3s 188ms/step - loss: 8.8774e-04 - val_loss: 0.0012\n",
            "Epoch 90/100\n",
            "15/15 [==============================] - 3s 190ms/step - loss: 7.0433e-04 - val_loss: 0.0011\n",
            "Epoch 91/100\n",
            "15/15 [==============================] - 3s 186ms/step - loss: 6.6208e-04 - val_loss: 9.5887e-04\n",
            "Epoch 92/100\n",
            "15/15 [==============================] - 4s 269ms/step - loss: 6.0577e-04 - val_loss: 9.9309e-04\n",
            "Epoch 93/100\n",
            "15/15 [==============================] - 3s 187ms/step - loss: 6.2686e-04 - val_loss: 9.3659e-04\n",
            "Epoch 94/100\n",
            "15/15 [==============================] - 3s 189ms/step - loss: 6.2507e-04 - val_loss: 0.0010\n",
            "Epoch 95/100\n",
            "15/15 [==============================] - 3s 190ms/step - loss: 7.3649e-04 - val_loss: 0.0011\n",
            "Epoch 96/100\n",
            "15/15 [==============================] - 4s 270ms/step - loss: 8.6070e-04 - val_loss: 9.3648e-04\n",
            "Epoch 97/100\n",
            "15/15 [==============================] - 3s 188ms/step - loss: 6.1278e-04 - val_loss: 0.0011\n",
            "Epoch 98/100\n",
            "15/15 [==============================] - 3s 186ms/step - loss: 9.4969e-04 - val_loss: 0.0013\n",
            "Epoch 99/100\n",
            "15/15 [==============================] - 3s 188ms/step - loss: 6.7306e-04 - val_loss: 0.0011\n",
            "Epoch 100/100\n",
            "15/15 [==============================] - 4s 261ms/step - loss: 6.8752e-04 - val_loss: 9.1208e-04\n"
          ]
        },
        {
          "output_type": "execute_result",
          "data": {
            "text/plain": [
              "<keras.callbacks.History at 0x7f97d2403b80>"
            ]
          },
          "metadata": {},
          "execution_count": 24
        }
      ]
    },
    {
      "cell_type": "code",
      "source": [
        "import tensorflow as tf"
      ],
      "metadata": {
        "id": "HtwkxuBxMNEe"
      },
      "execution_count": 25,
      "outputs": []
    },
    {
      "cell_type": "code",
      "source": [
        "### Lets Do the prediction and check performance metrics\n",
        "train_predict=model.predict(X_train)\n",
        "test_predict=model.predict(X_test)"
      ],
      "metadata": {
        "colab": {
          "base_uri": "https://localhost:8080/"
        },
        "id": "mRmdsjm-MNHl",
        "outputId": "191e9c3f-9b19-44d9-d2d8-3b18a30112f0"
      },
      "execution_count": 26,
      "outputs": [
        {
          "output_type": "stream",
          "name": "stdout",
          "text": [
            "29/29 [==============================] - 2s 40ms/step\n",
            "5/5 [==============================] - 0s 41ms/step\n"
          ]
        }
      ]
    },
    {
      "cell_type": "code",
      "source": [
        "##Transformback to original form\n",
        "train_predict=scaler.inverse_transform(train_predict)\n",
        "test_predict=scaler.inverse_transform(test_predict)"
      ],
      "metadata": {
        "id": "_i-F8eItMNKe"
      },
      "execution_count": 27,
      "outputs": []
    },
    {
      "cell_type": "code",
      "source": [
        "### Calculate RMSE performance metrics\n",
        "import math\n",
        "from sklearn.metrics import mean_squared_error\n",
        "math.sqrt(mean_squared_error(y_train,train_predict))"
      ],
      "metadata": {
        "colab": {
          "base_uri": "https://localhost:8080/"
        },
        "id": "Lp0R53n2MNNd",
        "outputId": "498b847c-0923-4cbc-c344-9c586ad37ec7"
      },
      "execution_count": 28,
      "outputs": [
        {
          "output_type": "execute_result",
          "data": {
            "text/plain": [
              "95.49954150101584"
            ]
          },
          "metadata": {},
          "execution_count": 28
        }
      ]
    },
    {
      "cell_type": "code",
      "source": [
        "### Test Data RMSE\n",
        "math.sqrt(mean_squared_error(ytest,test_predict))"
      ],
      "metadata": {
        "colab": {
          "base_uri": "https://localhost:8080/"
        },
        "id": "waSjHhr7MNQf",
        "outputId": "c4393db0-3799-40b3-a85d-f8f26dd67a56"
      },
      "execution_count": 29,
      "outputs": [
        {
          "output_type": "execute_result",
          "data": {
            "text/plain": [
              "103.58537508245296"
            ]
          },
          "metadata": {},
          "execution_count": 29
        }
      ]
    },
    {
      "cell_type": "code",
      "source": [
        "### Plotting\n",
        "# shift train predictions for plotting\n",
        "look_back=100\n",
        "trainPredictPlot = numpy.empty_like(data)\n",
        "trainPredictPlot[:, :] = np.nan\n",
        "trainPredictPlot[look_back:len(train_predict)+look_back, :] = train_predict\n",
        "# shift test predictions for plotting\n",
        "testPredictPlot = numpy.empty_like(data)\n",
        "testPredictPlot[:, :] = numpy.nan\n",
        "testPredictPlot[len(train_predict)+(look_back*2)+1:len(data)-1, :] = test_predict\n",
        "# plot baseline and predictions\n",
        "plt.plot(scaler.inverse_transform(data))\n",
        "plt.plot(trainPredictPlot)\n",
        "plt.plot(testPredictPlot)\n",
        "plt.show()"
      ],
      "metadata": {
        "colab": {
          "base_uri": "https://localhost:8080/",
          "height": 430
        },
        "id": "eL_QYY84PWMf",
        "outputId": "295ac160-7765-4a9b-f829-d0a4040da057"
      },
      "execution_count": 30,
      "outputs": [
        {
          "output_type": "display_data",
          "data": {
            "text/plain": [
              "<Figure size 640x480 with 1 Axes>"
            ],
            "image/png": "[encoded data removed]"
          },
          "metadata": {}
        }
      ]
    },
    {
      "cell_type": "code",
      "source": [
        "# len(test_data)"
      ],
      "metadata": {
        "id": "mdAOr9eAPWPL"
      },
      "execution_count": 31,
      "outputs": []
    },
    {
      "cell_type": "code",
      "source": [
        "# x_input=test_data[152:].reshape(1,-1)\n",
        "# x_input.shape"
      ],
      "metadata": {
        "id": "0VOTOwzzPmJT"
      },
      "execution_count": 32,
      "outputs": []
    },
    {
      "cell_type": "code",
      "source": [
        "# temp_input=list(x_input)\n",
        "# temp_input=temp_input[0].tolist()"
      ],
      "metadata": {
        "id": "V69bXEdUPmMP"
      },
      "execution_count": 33,
      "outputs": []
    },
    {
      "cell_type": "code",
      "source": [
        "# temp_input"
      ],
      "metadata": {
        "id": "0Ey0AqVNPmPa"
      },
      "execution_count": 34,
      "outputs": []
    },
    {
      "cell_type": "code",
      "source": [
        "# # demonstrate prediction for next 10 days\n",
        "# from numpy import array\n",
        "\n",
        "# lst_output=[]\n",
        "# n_steps=100\n",
        "# i=0\n",
        "# while(i<30):\n",
        "\n",
        "#     if(len(temp_input)>100):\n",
        "#         #print(temp_input)\n",
        "#         x_input=np.array(temp_input[1:])\n",
        "#         print(\"{} day input {}\".format(i,x_input))\n",
        "#         x_input=x_input.reshape(1,-1)\n",
        "#         x_input = x_input.reshape((1, n_steps, 1))\n",
        "#         #print(x_input)\n",
        "#         yhat = model.predict(x_input, verbose=0)\n",
        "#         print(\"{} day output {}\".format(i,yhat))\n",
        "#         temp_input.extend(yhat[0].tolist())\n",
        "#         temp_input=temp_input[1:]\n",
        "#         #print(temp_input)\n",
        "#         lst_output.extend(yhat.tolist())\n",
        "#         i=i+1\n",
        "#     else:\n",
        "#         x_input = x_input.reshape((1, n_steps,1))\n",
        "#         yhat = model.predict(x_input, verbose=0)\n",
        "#         print(yhat[0])\n",
        "#         temp_input.extend(yhat[0].tolist())\n",
        "#         print(len(temp_input))\n",
        "#         lst_output.extend(yhat.tolist())\n",
        "#         i=i+1\n",
        "\n",
        "# print(lst_output)"
      ],
      "metadata": {
        "id": "WgLEQDvYPmSA"
      },
      "execution_count": 35,
      "outputs": []
    },
    {
      "cell_type": "code",
      "source": [],
      "metadata": {
        "id": "yKl5XcpvMNT5"
      },
      "execution_count": 35,
      "outputs": []
    }
  ]
}